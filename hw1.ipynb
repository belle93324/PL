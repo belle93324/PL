{
 "cells": [
  {
   "cell_type": "code",
   "execution_count": 4,
   "metadata": {},
   "outputs": [],
   "source": [
    "import pandas as pd"
   ]
  },
  {
   "cell_type": "code",
   "execution_count": 6,
   "metadata": {},
   "outputs": [],
   "source": [
    "df = pd.read_csv('ranking .csv')\n"
   ]
  },
  {
   "cell_type": "code",
   "execution_count": 13,
   "metadata": {},
   "outputs": [],
   "source": [
    "year2022_set = set(df.iloc[:, 0])\n",
    "year2023_set = set(df.iloc[:, 1])"
   ]
  },
  {
   "cell_type": "code",
   "execution_count": 16,
   "metadata": {},
   "outputs": [],
   "source": [
    "union_set = year2022_set.union(year2023_set)\n",
    "intersection_set = year2022_set.intersection(year2023_set)\n",
    "difference_set1 = year2022_set.difference(year2023_set)\n",
    "difference_set2 = year2023_set.difference(year2022_set)"
   ]
  },
  {
   "cell_type": "code",
   "execution_count": 17,
   "metadata": {},
   "outputs": [
    {
     "name": "stdout",
     "output_type": "stream",
     "text": [
      "聯集: {'Johnson & Johnson', 'Adobe Inc.', 'Comcast Corporation\\n\\n\\n', 'Meta Platforms, Inc. (Facebook)', 'Nestlé S.A.', 'Alibaba Group Holding Ltd.', 'Procter & Gamble Co.', 'UnitedHealth Group Incorporated', 'Tencent Holdings Ltd.', 'Novartis AG', 'Tesla, Inc.', 'Samsung Electronics Co., Ltd.', 'Microsoft Corporation', 'Merck & Co., Inc.', 'Taiwan Semiconductor Manufacturing Co., Ltd.', 'Saudi Aramco', 'Home Depot, Inc.', 'JPMorgan Chase & Co.', 'Mastercard Incorporated', 'Intel Corporation', 'Berkshire Hathaway Inc.', 'Alphabet Inc. (Google)', 'Apple Inc.', 'Abbott Laboratories', 'Walt Disney Co.', 'Visa Inc.', 'Comcast Corporation', 'Berkshire Hathaway Inc.\\n', 'Amazon.com Inc.', 'Bank of America Corp.', 'Walmart Inc.', 'Toyota Motor Corporation'}\n",
      "交集: {'Johnson & Johnson', 'Adobe Inc.', 'Meta Platforms, Inc. (Facebook)', 'Nestlé S.A.', 'Alibaba Group Holding Ltd.', 'Procter & Gamble Co.', 'UnitedHealth Group Incorporated', 'Tencent Holdings Ltd.', 'Novartis AG', 'Tesla, Inc.', 'Samsung Electronics Co., Ltd.', 'Microsoft Corporation', 'Merck & Co., Inc.', 'Taiwan Semiconductor Manufacturing Co., Ltd.', 'Saudi Aramco', 'Home Depot, Inc.', 'JPMorgan Chase & Co.', 'Mastercard Incorporated', 'Intel Corporation', 'Alphabet Inc. (Google)', 'Apple Inc.', 'Abbott Laboratories', 'Walt Disney Co.', 'Visa Inc.', 'Amazon.com Inc.', 'Bank of America Corp.', 'Walmart Inc.', 'Toyota Motor Corporation'}\n",
      "第一欄減去第二欄的差集: {'Berkshire Hathaway Inc.', 'Comcast Corporation'}\n",
      "第二欄減去第一欄的差集: {'Comcast Corporation\\n\\n\\n', 'Berkshire Hathaway Inc.\\n'}\n"
     ]
    }
   ],
   "source": [
    "print(\"聯集:\", union_set)\n",
    "print(\"交集:\", intersection_set)\n",
    "print(\"第一欄減去第二欄的差集:\", difference_set1)\n",
    "print(\"第二欄減去第一欄的差集:\", difference_set2)\n"
   ]
  }
 ],
 "metadata": {
  "kernelspec": {
   "display_name": "base",
   "language": "python",
   "name": "python3"
  },
  "language_info": {
   "codemirror_mode": {
    "name": "ipython",
    "version": 3
   },
   "file_extension": ".py",
   "mimetype": "text/x-python",
   "name": "python",
   "nbconvert_exporter": "python",
   "pygments_lexer": "ipython3",
   "version": "3.11.5"
  }
 },
 "nbformat": 4,
 "nbformat_minor": 2
}
